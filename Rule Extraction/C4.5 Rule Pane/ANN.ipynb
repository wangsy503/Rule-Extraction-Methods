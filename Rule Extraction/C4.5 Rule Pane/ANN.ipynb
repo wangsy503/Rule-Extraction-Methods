{
 "cells": [
  {
   "cell_type": "code",
   "execution_count": 6,
   "source": [
    "import pandas as pd\r\n",
    "header=[\"Sex\", \"Length\", \"Diam\", \"Height\", \"Whole\", \"Shucked\", \"Viscera\", \"Shell\", \"Rings\"]"
   ],
   "outputs": [],
   "metadata": {}
  },
  {
   "cell_type": "code",
   "execution_count": 7,
   "source": [
    "data =  pd.read_csv(\"../Data/abalone.data\", sep=\",\", header=None)\r\n",
    "print(data)"
   ],
   "outputs": [
    {
     "output_type": "stream",
     "name": "stdout",
     "text": [
      "      0      1      2      3       4       5       6       7   8\n",
      "0     M  0.455  0.365  0.095  0.5140  0.2245  0.1010  0.1500  15\n",
      "1     M  0.350  0.265  0.090  0.2255  0.0995  0.0485  0.0700   7\n",
      "2     F  0.530  0.420  0.135  0.6770  0.2565  0.1415  0.2100   9\n",
      "3     M  0.440  0.365  0.125  0.5160  0.2155  0.1140  0.1550  10\n",
      "4     I  0.330  0.255  0.080  0.2050  0.0895  0.0395  0.0550   7\n",
      "...  ..    ...    ...    ...     ...     ...     ...     ...  ..\n",
      "4172  F  0.565  0.450  0.165  0.8870  0.3700  0.2390  0.2490  11\n",
      "4173  M  0.590  0.440  0.135  0.9660  0.4390  0.2145  0.2605  10\n",
      "4174  M  0.600  0.475  0.205  1.1760  0.5255  0.2875  0.3080   9\n",
      "4175  F  0.625  0.485  0.150  1.0945  0.5310  0.2610  0.2960  10\n",
      "4176  M  0.710  0.555  0.195  1.9485  0.9455  0.3765  0.4950  12\n",
      "\n",
      "[4177 rows x 9 columns]\n"
     ]
    }
   ],
   "metadata": {}
  },
  {
   "cell_type": "code",
   "execution_count": 8,
   "source": [
    "from sklearn.neural_network import MLPClassifier\r\n",
    "from sklearn.model_selection import train_test_split"
   ],
   "outputs": [],
   "metadata": {}
  },
  {
   "cell_type": "code",
   "execution_count": 9,
   "source": [
    "y = data[8]\r\n",
    "X = data.drop([8], axis=1)"
   ],
   "outputs": [],
   "metadata": {}
  },
  {
   "cell_type": "code",
   "execution_count": 10,
   "source": [
    "from sklearn import preprocessing\r\n",
    "from numpy import array\r\n",
    "\r\n",
    "df = X\r\n",
    "\r\n",
    "# this is a way to apply label_encoder to all category cols at once, returning a label encoder per categorical column, in a dict d \r\n",
    "lbe = preprocessing.LabelEncoder()\r\n",
    " # transform all text columns to numbers\r\n",
    "df[0] = lbe.fit_transform(df[0])\r\n",
    "#print(lbe.inverse_transform([5, 2, 1]))\r\n",
    "\r\n",
    "ohe = preprocessing.OneHotEncoder(sparse=False)\r\n",
    "tmp = ohe.fit_transform(array(df[0]).reshape(-1, 1))\r\n",
    "tmp = pd.DataFrame(tmp, columns = ['A','B','C'])\r\n",
    "df = pd.concat([df, tmp], axis=1).drop([0], axis=1)"
   ],
   "outputs": [],
   "metadata": {}
  },
  {
   "cell_type": "code",
   "execution_count": 11,
   "source": [
    "X_train, X_test, y_train, y_test = train_test_split(df, y, test_size=0.3, random_state=1)"
   ],
   "outputs": [],
   "metadata": {}
  },
  {
   "cell_type": "code",
   "execution_count": 13,
   "source": [
    "clf = MLPClassifier(random_state=1, batch_size=80).fit(X_train, y_train)"
   ],
   "outputs": [
    {
     "output_type": "stream",
     "name": "stderr",
     "text": [
      "C:\\Users\\wangshy\\anaconda3\\lib\\site-packages\\sklearn\\neural_network\\_multilayer_perceptron.py:614: ConvergenceWarning: Stochastic Optimizer: Maximum iterations (200) reached and the optimization hasn't converged yet.\n",
      "  warnings.warn(\n"
     ]
    }
   ],
   "metadata": {}
  },
  {
   "cell_type": "code",
   "execution_count": 14,
   "source": [
    "clf.score(X_test, y_test)"
   ],
   "outputs": [
    {
     "output_type": "execute_result",
     "data": {
      "text/plain": [
       "0.2623604465709729"
      ]
     },
     "metadata": {},
     "execution_count": 14
    }
   ],
   "metadata": {}
  },
  {
   "cell_type": "code",
   "execution_count": 16,
   "source": [
    "import pickle\r\n",
    "with open(\"../Models/mlp.pickle\", \"wb\") as fw:\r\n",
    "    pickle.dump(clf, fw)\r\n",
    "with open(\"../Data/abalone_X.pickle\", \"wb\") as fw:\r\n",
    "    pickle.dump(df, fw)\r\n",
    "with open(\"../Data/abalone_y.pickle\", \"wb\") as fw:\r\n",
    "    pickle.dump(y, fw)"
   ],
   "outputs": [],
   "metadata": {}
  },
  {
   "cell_type": "code",
   "execution_count": null,
   "source": [],
   "outputs": [],
   "metadata": {}
  }
 ],
 "metadata": {
  "orig_nbformat": 4,
  "language_info": {
   "name": "python",
   "version": "3.8.8",
   "mimetype": "text/x-python",
   "codemirror_mode": {
    "name": "ipython",
    "version": 3
   },
   "pygments_lexer": "ipython3",
   "nbconvert_exporter": "python",
   "file_extension": ".py"
  },
  "kernelspec": {
   "name": "python3",
   "display_name": "Python 3.8.8 64-bit ('base': conda)"
  },
  "interpreter": {
   "hash": "379db895c253b0527eddfd86a55542dc8831c156833720b4afd1d592ecb2bb28"
  }
 },
 "nbformat": 4,
 "nbformat_minor": 2
}